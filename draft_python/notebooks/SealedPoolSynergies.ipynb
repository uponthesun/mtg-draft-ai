{
 "cells": [
  {
   "cell_type": "markdown",
   "metadata": {},
   "source": [
    "Creates 10 sealed pools, along with the communities generated within the pool by https://networkx.github.io/documentation/stable/reference/algorithms/generated/networkx.algorithms.community.modularity_max.greedy_modularity_communities.html.\n",
    "\n",
    "Outputs results as HTML files in the `sealed_pools` directory in this directory."
   ]
  },
  {
   "cell_type": "code",
   "execution_count": null,
   "metadata": {},
   "outputs": [],
   "source": [
    "from mtg_draft_ai.api import *\n",
    "\n",
    "cards = read_cube_toml('cube_81183_tag_data.toml')"
   ]
  },
  {
   "cell_type": "code",
   "execution_count": null,
   "metadata": {},
   "outputs": [],
   "source": [
    "# Jupyter magic - run shell command\n",
    "!mkdir sealed_pools"
   ]
  },
  {
   "cell_type": "code",
   "execution_count": null,
   "metadata": {},
   "outputs": [],
   "source": [
    "def contains_all_colors(cards, colors):\n",
    "    colors_seen = set()\n",
    "    for card in cards:\n",
    "        if card.color_id != 'C':\n",
    "            for color in card.color_id:\n",
    "                colors_seen.add(color)\n",
    "    \n",
    "    return colors_seen == set(colors)"
   ]
  },
  {
   "cell_type": "code",
   "execution_count": null,
   "metadata": {},
   "outputs": [],
   "source": [
    "from networkx.algorithms import community\n",
    "from mtg_draft_ai.display import cards_to_html\n",
    "from mtg_draft_ai import synergy\n",
    "import random\n",
    "\n",
    "def write_pool(cards, filename):\n",
    "    pool = cards.copy()\n",
    "    random.shuffle(pool)\n",
    "    pool = sorted(pool[:90], key=lambda card: card.color_id)\n",
    "\n",
    "    graph = synergy.create_graph(cards)\n",
    "    \n",
    "    output_html = 'Pool:\\n<br>\\n{}<br>\\n'.format(cards_to_html(pool))\n",
    "\n",
    "    for colors in ['WU', 'WB', 'WR', 'WG', 'UB', 'UR', 'UG', 'BR', 'BG', 'RG']:\n",
    "        output_html += 'Colors: {} <br>\\n'.format(colors)\n",
    "        subgraph = synergy.colors_subgraph(graph.subgraph(pool), colors)\n",
    "        colors_gmc = community.greedy_modularity_communities(subgraph)\n",
    "\n",
    "        i = 0\n",
    "        for gmc in colors_gmc:\n",
    "            if not contains_all_colors(gmc, colors):\n",
    "                continue\n",
    "\n",
    "            gmc_subgraph = subgraph.subgraph(gmc)\n",
    "            sorted_community_cards = [k for k, v in synergy.sorted_centralities(gmc_subgraph)]\n",
    "\n",
    "            output_html += 'Community {}\\n'.format(i)\n",
    "            output_html += '<div>\\n{}</div>\\n'.format(cards_to_html(sorted_community_cards))\n",
    "            i += 1\n",
    "\n",
    "    with open(filename, 'w') as f:\n",
    "        f.write(output_html)\n",
    "#print(output_html)"
   ]
  },
  {
   "cell_type": "code",
   "execution_count": null,
   "metadata": {},
   "outputs": [],
   "source": [
    "for i in range(1, 10):\n",
    "    write_pool(cards, 'sealed_pools/sealed{}.html'.format(i))"
   ]
  }
 ],
 "metadata": {
  "kernelspec": {
   "display_name": "Python 3",
   "language": "python",
   "name": "python3"
  },
  "language_info": {
   "codemirror_mode": {
    "name": "ipython",
    "version": 3
   },
   "file_extension": ".py",
   "mimetype": "text/x-python",
   "name": "python",
   "nbconvert_exporter": "python",
   "pygments_lexer": "ipython3",
   "version": "3.7.1"
  }
 },
 "nbformat": 4,
 "nbformat_minor": 2
}
