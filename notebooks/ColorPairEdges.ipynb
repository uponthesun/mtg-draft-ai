{
 "cells": [
  {
   "cell_type": "markdown",
   "metadata": {},
   "source": [
    "For each color pair, partitions the card pool into disjoint subsets (\"communities\") using https://networkx.github.io/documentation/stable/reference/algorithms/generated/networkx.algorithms.community.modularity_max.greedy_modularity_communities.html\n",
    "\n",
    "Within each community, sorts cards from highest to lowest centrality (importance within that community).\n",
    "\n",
    "Outputs results into `colorpairs.html` file in this directory."
   ]
  },
  {
   "cell_type": "code",
   "execution_count": 4,
   "metadata": {},
   "outputs": [],
   "source": [
    "from mtg_draft_ai.api import *\n",
    "\n",
    "cards = read_cube_toml('cube_81183_tag_data.toml')"
   ]
  },
  {
   "cell_type": "code",
   "execution_count": 11,
   "metadata": {},
   "outputs": [
    {
     "name": "stdout",
     "output_type": "stream",
     "text": [
      "Colors: WU Edge density: 0.11479958890030832 Random Deck Edges: 58.08859198355601\n",
      "Colors: WB Edge density: 0.09507286606523248 Random Deck Edges: 48.10687022900763\n",
      "Colors: WR Edge density: 0.08437097466723915 Random Deck Edges: 42.691713181623015\n",
      "Colors: WG Edge density: 0.09684659409718326 Random Deck Edges: 49.00437661317473\n",
      "Colors: UB Edge density: 0.11453413482181193 Random Deck Edges: 57.95427221983684\n",
      "Colors: UR Edge density: 0.12156627709519528 Random Deck Edges: 61.51253621016881\n",
      "Colors: UG Edge density: 0.11281409654884787 Random Deck Edges: 57.08393285371702\n",
      "Colors: BR Edge density: 0.09695964621337756 Random Deck Edges: 49.061580983969044\n",
      "Colors: BG Edge density: 0.09683959451401312 Random Deck Edges: 49.00083482409064\n",
      "Colors: RG Edge density: 0.0893087161872048 Random Deck Edges: 45.19021039072563\n"
     ]
    }
   ],
   "source": [
    "import networkx as nx\n",
    "from networkx.algorithms import community\n",
    "from mtg_draft_ai.display import cards_to_html\n",
    "from mtg_draft_ai import synergy\n",
    "\n",
    "G = synergy.create_graph(cards, remove_isolated=True)\n",
    "\n",
    "color_pairs = ['WU', 'WB', 'WR', 'WG', 'UB', 'UR', 'UG', 'BR', 'BG', 'RG']\n",
    "color_trios = ['WUB', 'UBR', 'BRG', 'RGW', 'GWU', 'WBR', 'URG', 'BGW', 'RWU', 'GUB']\n",
    "\n",
    "for colors in color_pairs:\n",
    "    subgraph = synergy.colors_subgraph(G, colors)\n",
    "    edge_density = nx.density(subgraph)\n",
    "    random_deck_edge_count = edge_density * (23 * 22)\n",
    "    print('Colors: {} Edge density: {} Random Deck Edges: {}'.format(colors, edge_density, random_deck_edge_count))"
   ]
  },
  {
   "cell_type": "code",
   "execution_count": null,
   "metadata": {},
   "outputs": [],
   "source": []
  }
 ],
 "metadata": {
  "kernelspec": {
   "display_name": "Python 3",
   "language": "python",
   "name": "python3"
  },
  "language_info": {
   "codemirror_mode": {
    "name": "ipython",
    "version": 3
   },
   "file_extension": ".py",
   "mimetype": "text/x-python",
   "name": "python",
   "nbconvert_exporter": "python",
   "pygments_lexer": "ipython3",
   "version": "3.7.1"
  }
 },
 "nbformat": 4,
 "nbformat_minor": 2
}
