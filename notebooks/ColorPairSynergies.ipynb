{
 "cells": [
  {
   "cell_type": "markdown",
   "metadata": {},
   "source": [
    "For each color pair, partitions the card pool into disjoint subsets (\"communities\") using https://networkx.github.io/documentation/stable/reference/algorithms/generated/networkx.algorithms.community.modularity_max.greedy_modularity_communities.html\n",
    "\n",
    "Within each community, sorts cards from highest to lowest centrality (importance within that community).\n",
    "\n",
    "Outputs results into `colorpairs.html` file in this directory."
   ]
  },
  {
   "cell_type": "code",
   "execution_count": null,
   "metadata": {},
   "outputs": [],
   "source": [
    "from mtg_draft_ai.api import *\n",
    "\n",
    "cards = read_cube_toml('cube_81183_tag_data.toml')"
   ]
  },
  {
   "cell_type": "code",
   "execution_count": null,
   "metadata": {},
   "outputs": [],
   "source": [
    "from mtg_draft_ai import synergy\n",
    "\n",
    "G = synergy.create_graph(cards)"
   ]
  },
  {
   "cell_type": "code",
   "execution_count": null,
   "metadata": {},
   "outputs": [],
   "source": [
    "def contains_all_colors(cards, colors):\n",
    "    colors_seen = set()\n",
    "    for card in cards:\n",
    "        if card.color_id != 'C':\n",
    "            for color in card.color_id:\n",
    "                colors_seen.add(color)\n",
    "    \n",
    "    return colors_seen == set(colors)"
   ]
  },
  {
   "cell_type": "code",
   "execution_count": null,
   "metadata": {},
   "outputs": [],
   "source": [
    "import networkx as nx\n",
    "from networkx.algorithms import community\n",
    "from mtg_draft_ai.display import cards_to_html\n",
    "\n",
    "output_html = \"\"\"\n",
    "<style>\n",
    "card-image {\n",
    "    display: inline;\n",
    "    margin: 1px;\n",
    "}\n",
    "</style>\n",
    "\"\"\"\n",
    "\n",
    "color_pairs = ['WU', 'WB', 'WR', 'WG', 'UB', 'UR', 'UG', 'BR', 'BG', 'RG']\n",
    "color_trios = ['WUB', 'UBR', 'BRG', 'RGW', 'GWU', 'WBR', 'URG', 'BGW', 'RWU', 'GUB']\n",
    "\n",
    "for colors in color_pairs:\n",
    "    output_html += 'Colors: {} <br>\\n'.format(colors)\n",
    "    subgraph = synergy.colors_subgraph(G, colors)\n",
    "    colors_gmc = community.greedy_modularity_communities(subgraph)\n",
    "\n",
    "    i = 0\n",
    "    for gmc in colors_gmc:\n",
    "        if not contains_all_colors(gmc, colors):\n",
    "            continue\n",
    "\n",
    "        gmc_subgraph = subgraph.subgraph(gmc)\n",
    "        sorted_community_cards = [k for k, v in synergy.sorted_centralities(gmc_subgraph)]\n",
    "        \n",
    "        output_html += 'Community {}\\n'.format(i)\n",
    "        output_html += '<div>\\n{}</div>\\n'.format(cards_to_html(sorted_community_cards))\n",
    "        i += 1\n",
    "\n",
    "#print(output_html)"
   ]
  },
  {
   "cell_type": "code",
   "execution_count": null,
   "metadata": {},
   "outputs": [],
   "source": [
    "with open('colorpairs.html', 'w') as f:\n",
    "    f.write(output_html)"
   ]
  }
 ],
 "metadata": {
  "kernelspec": {
   "display_name": "Python 3",
   "language": "python",
   "name": "python3"
  },
  "language_info": {
   "codemirror_mode": {
    "name": "ipython",
    "version": 3
   },
   "file_extension": ".py",
   "mimetype": "text/x-python",
   "name": "python",
   "nbconvert_exporter": "python",
   "pygments_lexer": "ipython3",
   "version": "3.7.1"
  }
 },
 "nbformat": 4,
 "nbformat_minor": 2
}
