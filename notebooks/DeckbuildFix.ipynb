{
 "cells": [
  {
   "cell_type": "code",
   "execution_count": 3,
   "metadata": {},
   "outputs": [],
   "source": [
    "card_pool_names = [\n",
    "    \"Skinshifter\",\n",
    "\"Pack Guardian\",\n",
    "\"Supreme Phantom\",\n",
    "\"Ninja of the Deep Hours\",\n",
    "\"Negate\",\n",
    "\"Familiar's Ruse\",\n",
    "\"Thought Courier\",\n",
    "\"Riddleform\",\n",
    "\"Grazing Gladehart\",\n",
    "\"Filigree Familiar\",\n",
    "\"Prey Upon\",\n",
    "\"Foul Orchard\",\n",
    "\"Llanowar Wastes\",\n",
    "\"Sulfur Falls\",\n",
    "\"Killing Glare\",\n",
    "\"Wizard's Retort\",\n",
    "\"Higure, the Still Wind\",\n",
    "\"Rattlechains\",\n",
    "\"Centaur's Herald\",\n",
    "\"Harbinger of the Tides\",\n",
    "\"Essence Flux\",\n",
    "\"Territorial Allosaurus\",\n",
    "\"Greenwarden of Murasa\",\n",
    "\"Foundry of the Consuls\",\n",
    "\"Scrounging Bandar\",\n",
    "\"Woodland Stream\",\n",
    "\"Kiri-Onna\",\n",
    "\"Isolated Chapel\",\n",
    "\"Highland Lake\",\n",
    "\"Sidisi, Brood Tyrant\",\n",
    "\"Naru Meha, Master Wizard\",\n",
    "\"Ludevic's Test Subject\",\n",
    "\"Bounding Krasis\",\n",
    "\"Opt\",\n",
    "\"Mana Leak\",\n",
    "\"Simic Signet\",\n",
    "\"Dissolve\",\n",
    "\"Supreme Will\",\n",
    "\"Kessig Cagebreakers\",\n",
    "\"Birds of Paradise\",\n",
    "\"River Hoopoe\",\n",
    "\"Crawling Sensation\",\n",
    "\"Temple of Mystery\",\n",
    "\"Submerged Boneyard\",\n",
    "\"Battlefield Forge\",\n",
    "]"
   ]
  },
  {
   "cell_type": "code",
   "execution_count": 4,
   "metadata": {},
   "outputs": [],
   "source": [
    "from mtg_draft_ai.api import *\n",
    "\n",
    "cards = read_cube_toml('cube_81183_tag_data.toml')"
   ]
  },
  {
   "cell_type": "code",
   "execution_count": 5,
   "metadata": {},
   "outputs": [],
   "source": [
    "cards_by_name = {c.name: c for c in cards}"
   ]
  },
  {
   "cell_type": "code",
   "execution_count": 6,
   "metadata": {},
   "outputs": [],
   "source": [
    "card_pool = [cards_by_name[name] for name in card_pool_names]"
   ]
  },
  {
   "cell_type": "code",
   "execution_count": 8,
   "metadata": {},
   "outputs": [],
   "source": [
    "from mtg_draft_ai import synergy\n",
    "import networkx as nx\n",
    "\n",
    "\n",
    "_NONLANDS_IN_DECK_DEFAULT = 23\n",
    "\n",
    "_COLOR_COMBOS = ['WU', 'WB', 'WR', 'WG', 'UB', 'UR', 'UG', 'BR', 'BG', 'RG']\n",
    "\n",
    "def _comm_score(current_graph, comm):\n",
    "    build_with_comm = list(current_graph.nodes) + list(comm)\n",
    "    graph_with_comm = synergy.create_graph(build_with_comm, remove_isolated=False)\n",
    "    edges_added = len(graph_with_comm.edges) - len(current_graph.edges)\n",
    "    return edges_added / len(comm)\n",
    "\n",
    "\n",
    "def _num_nonlands(current_build):\n",
    "    return len([c for c in current_build if 'land' not in c.types])\n",
    "\n",
    "\n",
    "def _communities_build(card_pool_graph, target_playables):\n",
    "    \"\"\"Builds a deck by trying combinations of communities. Ignores all other factors (including color).\n",
    "\n",
    "    Outline of algorithm:\n",
    "\n",
    "    1). Split the on-color cards into communities using networkx's greedy_modular_communities\n",
    "    2). Find the \"best\" community to add based on # of edges it would add / # nodes\n",
    "    3). Add the entire community to the pool\n",
    "    4). Repeat 2-3 until we have >= the target number of playables\n",
    "    5). Cut cards one by one based on lowest centrality score in the graph for the pool\n",
    "    until we have the target number of playables\n",
    "\n",
    "    Args:\n",
    "        card_pool_graph (networkx.Graph): A synergy graph of Cards as the card pool to build from.\n",
    "        target_playables (int): The number of nonland cards to include in the deck. Utility lands can still be\n",
    "            included if they are beneficial, but don't count towards this total.\n",
    "\n",
    "    Returns:\n",
    "        List[Card]: The build for the given pool pool of cards.\n",
    "    \"\"\"\n",
    "    if _num_nonlands(card_pool_graph.nodes) < target_playables:\n",
    "        raise DeckbuildError('Not enough nonland cards')\n",
    "\n",
    "    communities = nx.algorithms.community.greedy_modularity_communities(card_pool_graph)\n",
    "\n",
    "    # Add the community with the best ratio of edges added to nodes added. Repeat until we have >=\n",
    "    # the target number of playables.\n",
    "    current_build = []\n",
    "    while _num_nonlands(current_build) < target_playables:\n",
    "        current_graph = synergy.create_graph(current_build, remove_isolated=False)\n",
    "        communities.sort(key=lambda c: _comm_score(current_graph, c), reverse=True)\n",
    "        current_build.extend(communities.pop(0))\n",
    "\n",
    "    current_build_graph = synergy.create_graph(current_build, remove_isolated=False, freeze=False)\n",
    "\n",
    "    # Cut least-central cards one by one until we're at the final number of playables\n",
    "    while _num_nonlands(current_build_graph.nodes) > target_playables:\n",
    "        centralities = synergy.sorted_centralities(current_build_graph)\n",
    "        least_central_card = centralities[-1][0]\n",
    "        current_build_graph.remove_node(least_central_card)\n",
    "\n",
    "    return list(current_build_graph.nodes)"
   ]
  },
  {
   "cell_type": "code",
   "execution_count": 33,
   "metadata": {},
   "outputs": [
    {
     "name": "stdout",
     "output_type": "stream",
     "text": [
      "adding comm: ['Bounding Krasis', 'Dissolve', \"Familiar's Ruse\", 'Skinshifter', 'Mana Leak', \"Wizard's Retort\", 'Negate', 'Pack Guardian', \"Centaur's Herald\"]\n",
      "adding comm: ['Rattlechains', 'Supreme Phantom', 'Higure, the Still Wind', 'Birds of Paradise', 'River Hoopoe', 'Kiri-Onna', 'Ninja of the Deep Hours']\n",
      "adding comm: ['Prey Upon', 'Harbinger of the Tides', 'Opt', 'Riddleform', 'Supreme Will', 'Naru Meha, Master Wizard', 'Essence Flux']\n",
      "[['Simic Signet', \"Ludevic's Test Subject\", 'Territorial Allosaurus'], ['Foundry of the Consuls', 'Crawling Sensation', 'Thought Courier', 'Kessig Cagebreakers', 'Greenwarden of Murasa'], ['Grazing Gladehart'], ['Filigree Familiar'], ['Scrounging Bandar']]\n"
     ]
    }
   ],
   "source": [
    "colors = 'UG'\n",
    "\n",
    "graph = synergy.create_graph(card_pool, remove_isolated=False)\n",
    "\n",
    "\n",
    "on_color_with_utility_lands = [c for c in card_pool\n",
    "            if synergy.castable(c, colors) and not ('land' in c.types and not c.tags)]\n",
    "on_color_subgraph = graph.subgraph(on_color_with_utility_lands)\n",
    "#deck_for_colors = _communities_build(on_color_subgraph, 23)\n",
    "\n",
    "target_playables = 23\n",
    "card_pool_graph = on_color_subgraph\n",
    "\n",
    "\n",
    "communities = nx.algorithms.community.greedy_modularity_communities(card_pool_graph)\n",
    "\n",
    "# Add the community with the best ratio of edges added to nodes added. Repeat until we have >=\n",
    "# the target number of playables.\n",
    "current_build = []\n",
    "while _num_nonlands(current_build) < target_playables:\n",
    "    current_graph = synergy.create_graph(current_build, remove_isolated=False)\n",
    "    communities.sort(key=lambda c: _comm_score(current_graph, c), reverse=True)\n",
    "\n",
    "    comm_to_add = communities.pop(0)\n",
    "    print('adding comm: {}'.format([c.name for c in comm_to_add]))\n",
    "    \n",
    "    current_build.extend(comm_to_add)\n",
    "    \n",
    "print([[card.name for card in comm] for comm in communities])\n",
    "\n",
    "current_build_graph = synergy.create_graph(current_build, remove_isolated=False, freeze=False)\n",
    "\n",
    "# Cut least-central cards one by one until we're at the final number of playables\n",
    "while _num_nonlands(current_build_graph.nodes) > target_playables:\n",
    "    centralities = synergy.sorted_centralities(current_build_graph)\n",
    "    least_central_card = centralities[-1][0]\n",
    "    current_build_graph.remove_node(least_central_card)\n",
    "\n",
    "#return list(current_build_graph.nodes)"
   ]
  },
  {
   "cell_type": "code",
   "execution_count": 30,
   "metadata": {},
   "outputs": [
    {
     "data": {
      "text/plain": [
       "['Bounding Krasis',\n",
       " 'Dissolve',\n",
       " \"Familiar's Ruse\",\n",
       " 'Skinshifter',\n",
       " 'Mana Leak',\n",
       " \"Wizard's Retort\",\n",
       " 'Negate',\n",
       " 'Pack Guardian',\n",
       " \"Centaur's Herald\",\n",
       " 'Rattlechains',\n",
       " 'Supreme Phantom',\n",
       " 'Higure, the Still Wind',\n",
       " 'Birds of Paradise',\n",
       " 'River Hoopoe',\n",
       " 'Kiri-Onna',\n",
       " 'Ninja of the Deep Hours',\n",
       " 'Prey Upon',\n",
       " 'Harbinger of the Tides',\n",
       " 'Opt',\n",
       " 'Riddleform',\n",
       " 'Supreme Will',\n",
       " 'Naru Meha, Master Wizard',\n",
       " 'Essence Flux']"
      ]
     },
     "execution_count": 30,
     "metadata": {},
     "output_type": "execute_result"
    }
   ],
   "source": [
    "[c.name for c in current_build_graph.nodes]"
   ]
  },
  {
   "cell_type": "code",
   "execution_count": 21,
   "metadata": {},
   "outputs": [
    {
     "data": {
      "text/plain": [
       "[(Card: {'name': 'Rattlechains', 'color_id': 'U', 'types': ['creature'], 'tags': [('Spirits', 'Payoff'), ('Spirits', 'Enabler'), ('Flash', 'Threat'), ('Ninjutsu', 'Enabler')], 'power_tier': 2},\n",
       "  0.32201045373989057),\n",
       " (Card: {'name': 'Pack Guardian', 'color_id': 'G', 'types': ['creature'], 'tags': [('Land Graveyard', 'Enabler'), ('Spirits', 'Enabler'), ('Flash', 'Threat'), ('Land Extra', 'Payoff')], 'power_tier': 2},\n",
       "  0.27814527614205503),\n",
       " (Card: {'name': 'Supreme Will', 'color_id': 'U', 'types': ['instant'], 'tags': [('Spells', 'Enabler'), ('Flash', 'Interaction')], 'power_tier': 3},\n",
       "  0.2629951311314047),\n",
       " (Card: {'name': 'Naru Meha, Master Wizard', 'color_id': 'U', 'types': ['creature'], 'tags': [('Wizards', 'Payoff'), ('Spells', 'Payoff'), ('Wizards', 'Enabler'), ('Flash', 'Threat')], 'power_tier': 2},\n",
       "  0.25836940500032196),\n",
       " (Card: {'name': \"Familiar's Ruse\", 'color_id': 'U', 'types': ['instant'], 'tags': [('Flash', 'Interaction')], 'power_tier': 3},\n",
       "  0.25474268489102514),\n",
       " (Card: {'name': 'Mana Leak', 'color_id': 'U', 'types': ['instant'], 'tags': [('Flash', 'Interaction')], 'power_tier': 2},\n",
       "  0.2547426848910251),\n",
       " (Card: {'name': \"Wizard's Retort\", 'color_id': 'U', 'types': ['instant'], 'tags': [('Wizards', 'Payoff'), ('Flash', 'Interaction')], 'power_tier': 3},\n",
       "  0.2547426848910251),\n",
       " (Card: {'name': 'Dissolve', 'color_id': 'U', 'types': ['instant'], 'tags': [('Flash', 'Interaction')], 'power_tier': 3},\n",
       "  0.25474268489102503),\n",
       " (Card: {'name': 'Negate', 'color_id': 'U', 'types': ['instant'], 'tags': [('Flash', 'Interaction')], 'power_tier': 3},\n",
       "  0.25474268489102503),\n",
       " (Card: {'name': 'River Hoopoe', 'color_id': 'GU', 'types': ['creature'], 'tags': [('Lifegain', 'Enabler'), ('Flash', 'Threat'), ('Ninjutsu', 'Enabler'), ('Ramp', 'Payoff')], 'power_tier': 3},\n",
       "  0.24693599535968608),\n",
       " (Card: {'name': 'Skinshifter', 'color_id': 'G', 'types': ['creature'], 'tags': [('Flash', 'Threat'), ('Ninjutsu', 'Enabler')], 'power_tier': 2},\n",
       "  0.23774638379529478),\n",
       " (Card: {'name': 'Harbinger of the Tides', 'color_id': 'U', 'types': ['creature'], 'tags': [('ETB', 'Enabler'), ('Wizards', 'Enabler'), ('Flash', 'Threat')], 'power_tier': 2},\n",
       "  0.23187730876204826),\n",
       " (Card: {'name': 'Bounding Krasis', 'color_id': 'GU', 'types': ['creature'], 'tags': [('Flash', 'Threat')], 'power_tier': 2},\n",
       "  0.1985027124418191),\n",
       " (Card: {'name': \"Centaur's Herald\", 'color_id': 'G', 'types': ['creature'], 'tags': [('Flash', 'Threat')], 'power_tier': 3},\n",
       "  0.1985027124418191),\n",
       " (Card: {'name': 'Higure, the Still Wind', 'color_id': 'U', 'types': ['creature'], 'tags': [('Ninjutsu', 'Payoff'), ('Ninjutsu', 'Enabler'), ('Ninjas', 'Enabler')], 'power_tier': 2},\n",
       "  0.15190242183513655),\n",
       " (Card: {'name': 'Ninja of the Deep Hours', 'color_id': 'U', 'types': ['creature'], 'tags': [('Ninjutsu', 'Payoff'), ('Ninjas', 'Enabler')], 'power_tier': 2},\n",
       "  0.15190242183513655),\n",
       " (Card: {'name': 'Essence Flux', 'color_id': 'U', 'types': ['instant'], 'tags': [('Spirits', 'Payoff'), ('Spells', 'Enabler')], 'power_tier': 4},\n",
       "  0.1483265484170648),\n",
       " (Card: {'name': 'Supreme Phantom', 'color_id': 'U', 'types': ['creature'], 'tags': [('Spirits', 'Enabler'), ('Spirits', 'Payoff'), ('Ninjutsu', 'Enabler')], 'power_tier': 2},\n",
       "  0.1462158273811753),\n",
       " (Card: {'name': 'Kiri-Onna', 'color_id': 'U', 'types': ['creature'], 'tags': [('Spirits', 'Enabler'), ('ETB', 'Enabler')], 'power_tier': 4},\n",
       "  0.07964256370023595),\n",
       " (Card: {'name': 'Birds of Paradise', 'color_id': 'G', 'types': ['creature'], 'tags': [('Ninjutsu', 'Enabler'), ('Ramp', 'Enabler')], 'power_tier': 1},\n",
       "  0.07114136900097079),\n",
       " (Card: {'name': 'Riddleform', 'color_id': 'U', 'types': ['enchantment'], 'tags': [('Spells', 'Payoff')], 'power_tier': 3},\n",
       "  0.06388630455528922),\n",
       " (Card: {'name': 'Prey Upon', 'color_id': 'G', 'types': ['sorcery'], 'tags': [('Heroic', 'Enabler'), ('Spells', 'Enabler')], 'power_tier': 2},\n",
       "  0.04162704256060864),\n",
       " (Card: {'name': 'Opt', 'color_id': 'U', 'types': ['instant'], 'tags': [('Spells', 'Enabler')], 'power_tier': 2},\n",
       "  0.041627042560608576)]"
      ]
     },
     "execution_count": 21,
     "metadata": {},
     "output_type": "execute_result"
    }
   ],
   "source": [
    "synergy.sorted_centralities(current_build_graph)"
   ]
  },
  {
   "cell_type": "code",
   "execution_count": 26,
   "metadata": {},
   "outputs": [],
   "source": [
    "c = [(tup[0].name, tup[1]) for tup in synergy.sorted_centralities(on_color_subgraph)]"
   ]
  },
  {
   "cell_type": "code",
   "execution_count": 27,
   "metadata": {},
   "outputs": [
    {
     "data": {
      "text/plain": [
       "[('Rattlechains', 0.29630845887279705),\n",
       " (\"Wizard's Retort\", 0.2647268644096714),\n",
       " ('Supreme Will', 0.26333962258078975),\n",
       " ('Pack Guardian', 0.262981624775553),\n",
       " (\"Familiar's Ruse\", 0.25628391782183085),\n",
       " ('Negate', 0.25628391782183074),\n",
       " ('Mana Leak', 0.25628391782183074),\n",
       " ('Dissolve', 0.2562839178218307),\n",
       " ('Naru Meha, Master Wizard', 0.25126430031073516),\n",
       " ('River Hoopoe', 0.24357543623002742),\n",
       " ('Skinshifter', 0.22424233072290267),\n",
       " ('Harbinger of the Tides', 0.22124343975870017),\n",
       " (\"Ludevic's Test Subject\", 0.20976933473291529),\n",
       " ('Bounding Krasis', 0.1904362292257906),\n",
       " (\"Centaur's Herald\", 0.19043622922579057),\n",
       " ('Higure, the Still Wind', 0.1378616611496144),\n",
       " ('Ninja of the Deep Hours', 0.13786166114961435),\n",
       " ('Essence Flux', 0.13028498039197567),\n",
       " ('Supreme Phantom', 0.1266712425969687),\n",
       " ('Birds of Paradise', 0.09574367188970244),\n",
       " ('Thought Courier', 0.06886086180014668),\n",
       " ('Kiri-Onna', 0.06783511033385614),\n",
       " ('Simic Signet', 0.06193757039259032)]"
      ]
     },
     "execution_count": 27,
     "metadata": {},
     "output_type": "execute_result"
    }
   ],
   "source": [
    "c[:23]"
   ]
  },
  {
   "cell_type": "code",
   "execution_count": 28,
   "metadata": {},
   "outputs": [
    {
     "data": {
      "text/plain": [
       "[('Riddleform', 0.05754648631901061),\n",
       " ('Crawling Sensation', 0.038417191902993454),\n",
       " ('Prey Upon', 0.037862915291868575),\n",
       " ('Opt', 0.03786291529186855),\n",
       " ('Greenwarden of Murasa', 0.03248633731087179),\n",
       " ('Territorial Allosaurus', 0.019333105507124755),\n",
       " ('Kessig Cagebreakers', 0.013153231803746994),\n",
       " ('Foundry of the Consuls', 0.004710285215906307),\n",
       " ('Scrounging Bandar', 3.490632663737966e-17),\n",
       " ('Filigree Familiar', -2.3375945112195336e-17),\n",
       " ('Grazing Gladehart', -5.328791682561758e-17)]"
      ]
     },
     "execution_count": 28,
     "metadata": {},
     "output_type": "execute_result"
    }
   ],
   "source": [
    "c[23:]"
   ]
  }
 ],
 "metadata": {
  "kernelspec": {
   "display_name": "Python 3",
   "language": "python",
   "name": "python3"
  },
  "language_info": {
   "codemirror_mode": {
    "name": "ipython",
    "version": 3
   },
   "file_extension": ".py",
   "mimetype": "text/x-python",
   "name": "python",
   "nbconvert_exporter": "python",
   "pygments_lexer": "ipython3",
   "version": "3.7.3"
  }
 },
 "nbformat": 4,
 "nbformat_minor": 2
}
