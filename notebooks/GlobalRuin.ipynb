{
 "cells": [
  {
   "cell_type": "code",
   "execution_count": 5,
   "metadata": {},
   "outputs": [],
   "source": [
    "import itertools\n",
    "from itertools import *\n",
    "\n",
    "def powerset(iterable):\n",
    "    \"powerset([1,2,3]) --> () (1,) (2,) (3,) (1,2) (1,3) (2,3) (1,2,3)\"\n",
    "    s = list(iterable)\n",
    "    return chain.from_iterable(combinations(s, r) for r in range(len(s)+1))"
   ]
  },
  {
   "cell_type": "code",
   "execution_count": 134,
   "metadata": {},
   "outputs": [],
   "source": [
    "def brute_force(lands, types):\n",
    "    if len(lands) > len(types):\n",
    "        return None\n",
    "    \n",
    "    # Try all possible combinations of assignments of types to lands\n",
    "    indices = list(range(0, len(lands)))\n",
    "    for index_combo in itertools.product(indices, repeat=len(types)):\n",
    "        # index_combo is a tuple where each element represents the index of the land the type is\n",
    "        # assigned to. e.g. (0, 0, 1) means that the first two types are assigned to land 0,\n",
    "        # and the third type is assigned to land 1.\n",
    "        assignment = [[] for _ in lands]\n",
    "        for t, i in zip(types, index_combo):\n",
    "            assignment[i].append(t)\n",
    "\n",
    "        # Go through each land, and check:\n",
    "        # - at least one type assigned to land\n",
    "        # - no types assigned that it doesn't have\n",
    "        # If either are false, then this assignment is invalid.\n",
    "        valid = True\n",
    "        for types_chosen, land in zip(assignment, lands):            \n",
    "            if not types_chosen or not set(types_chosen).issubset(set(land)):\n",
    "                valid = False\n",
    "        if valid:\n",
    "            return assignment\n",
    "\n",
    "    return None"
   ]
  },
  {
   "cell_type": "code",
   "execution_count": 326,
   "metadata": {},
   "outputs": [],
   "source": [
    "def check_algorithm(num_types):\n",
    "    types = list(range(1, num_types + 1))\n",
    "    print(types)\n",
    "    \n",
    "    for num_lands in range(1, num_types + 1):\n",
    "        l = [powerset(types) for _ in range(0, num_lands)]\n",
    "        for combination in itertools.product(*l):\n",
    "            lands = [list(tup) for tup in combination]\n",
    "            brute_force_result = brute_force(lands, types)\n",
    "            algo_result = find_assignment(lands, types)\n",
    "            #algo_result = brute_force_result\n",
    "            print('lands: {} | brute force: {} | algorithm: {}'.format(lands, brute_force_result, algo_result))\n",
    "            if (brute_force_result is None) != (algo_result is None):\n",
    "                raise Exception('Differing results')\n"
   ]
  },
  {
   "cell_type": "code",
   "execution_count": 328,
   "metadata": {},
   "outputs": [
    {
     "name": "stdout",
     "output_type": "stream",
     "text": [
      "[1, 2, 3]\n",
      "lands: [[]] | brute force: None | algorithm: None\n",
      "lands: [[1]] | brute force: None | algorithm: None\n",
      "lands: [[2]] | brute force: None | algorithm: None\n",
      "lands: [[3]] | brute force: None | algorithm: None\n",
      "lands: [[1, 2]] | brute force: None | algorithm: None\n",
      "lands: [[1, 3]] | brute force: None | algorithm: None\n",
      "lands: [[2, 3]] | brute force: None | algorithm: None\n",
      "lands: [[1, 2, 3]] | brute force: [[1, 2, 3]] | algorithm: [[1, 3, 2]]\n",
      "lands: [[], []] | brute force: None | algorithm: None\n",
      "lands: [[], [1]] | brute force: None | algorithm: None\n",
      "lands: [[], [2]] | brute force: None | algorithm: None\n",
      "lands: [[], [3]] | brute force: None | algorithm: None\n",
      "lands: [[], [1, 2]] | brute force: None | algorithm: None\n",
      "lands: [[], [1, 3]] | brute force: None | algorithm: None\n",
      "lands: [[], [2, 3]] | brute force: None | algorithm: None\n",
      "lands: [[], [1, 2, 3]] | brute force: None | algorithm: None\n",
      "lands: [[1], []] | brute force: None | algorithm: None\n",
      "lands: [[1], [1]] | brute force: None | algorithm: None\n",
      "lands: [[1], [2]] | brute force: None | algorithm: None\n",
      "lands: [[1], [3]] | brute force: None | algorithm: None\n",
      "lands: [[1], [1, 2]] | brute force: None | algorithm: None\n",
      "lands: [[1], [1, 3]] | brute force: None | algorithm: None\n",
      "lands: [[1], [2, 3]] | brute force: [[1], [2, 3]] | algorithm: [[1], [2, 3]]\n",
      "lands: [[1], [1, 2, 3]] | brute force: [[1], [2, 3]] | algorithm: None\n"
     ]
    },
    {
     "ename": "Exception",
     "evalue": "Differing results",
     "output_type": "error",
     "traceback": [
      "\u001b[0;31m---------------------------------------------------------------------------\u001b[0m",
      "\u001b[0;31mException\u001b[0m                                 Traceback (most recent call last)",
      "\u001b[0;32m<ipython-input-328-21a3142a930e>\u001b[0m in \u001b[0;36m<module>\u001b[0;34m\u001b[0m\n\u001b[0;32m----> 1\u001b[0;31m \u001b[0mcheck_algorithm\u001b[0m\u001b[0;34m(\u001b[0m\u001b[0;36m3\u001b[0m\u001b[0;34m)\u001b[0m\u001b[0;34m\u001b[0m\u001b[0;34m\u001b[0m\u001b[0m\n\u001b[0m",
      "\u001b[0;32m<ipython-input-326-89bc2968f1d7>\u001b[0m in \u001b[0;36mcheck_algorithm\u001b[0;34m(num_types)\u001b[0m\n\u001b[1;32m     12\u001b[0m             \u001b[0mprint\u001b[0m\u001b[0;34m(\u001b[0m\u001b[0;34m'lands: {} | brute force: {} | algorithm: {}'\u001b[0m\u001b[0;34m.\u001b[0m\u001b[0mformat\u001b[0m\u001b[0;34m(\u001b[0m\u001b[0mlands\u001b[0m\u001b[0;34m,\u001b[0m \u001b[0mbrute_force_result\u001b[0m\u001b[0;34m,\u001b[0m \u001b[0malgo_result\u001b[0m\u001b[0;34m)\u001b[0m\u001b[0;34m)\u001b[0m\u001b[0;34m\u001b[0m\u001b[0;34m\u001b[0m\u001b[0m\n\u001b[1;32m     13\u001b[0m             \u001b[0;32mif\u001b[0m \u001b[0;34m(\u001b[0m\u001b[0mbrute_force_result\u001b[0m \u001b[0;32mis\u001b[0m \u001b[0;32mNone\u001b[0m\u001b[0;34m)\u001b[0m \u001b[0;34m!=\u001b[0m \u001b[0;34m(\u001b[0m\u001b[0malgo_result\u001b[0m \u001b[0;32mis\u001b[0m \u001b[0;32mNone\u001b[0m\u001b[0;34m)\u001b[0m\u001b[0;34m:\u001b[0m\u001b[0;34m\u001b[0m\u001b[0;34m\u001b[0m\u001b[0m\n\u001b[0;32m---> 14\u001b[0;31m                 \u001b[0;32mraise\u001b[0m \u001b[0mException\u001b[0m\u001b[0;34m(\u001b[0m\u001b[0;34m'Differing results'\u001b[0m\u001b[0;34m)\u001b[0m\u001b[0;34m\u001b[0m\u001b[0;34m\u001b[0m\u001b[0m\n\u001b[0m",
      "\u001b[0;31mException\u001b[0m: Differing results"
     ]
    }
   ],
   "source": [
    "check_algorithm(3)"
   ]
  },
  {
   "cell_type": "code",
   "execution_count": 313,
   "metadata": {},
   "outputs": [],
   "source": [
    "def debug(s, debug):\n",
    "    if debug:\n",
    "        print(s)"
   ]
  },
  {
   "cell_type": "code",
   "execution_count": 330,
   "metadata": {},
   "outputs": [],
   "source": [
    "import copy\n",
    "\n",
    "def find_assignment(lands, types, d=False):\n",
    "    if len(lands) > len(types):\n",
    "        return None\n",
    "\n",
    "    if set(itertools.chain(*lands)) != set(types):\n",
    "        debug(str(set(itertools.chain(*lands))), d)\n",
    "        debug('not all types covered', d)\n",
    "        return None\n",
    "    \n",
    "    lands_original = lands\n",
    "    lands, types = copy.deepcopy(lands), copy.deepcopy(types)\n",
    "    \n",
    "    assignment = [[] for _ in lands]\n",
    "    num_assigned = 0\n",
    "    \n",
    "    while num_assigned < len(lands):\n",
    "        debug('lands: {} | types: {} | assignment: {}'.format(lands, types, assignment), d)\n",
    "        \n",
    "        least_flexible, min_value = None, None\n",
    "        # Find type with the least # of valid lands.\n",
    "        for t in types:\n",
    "            num_valid_lands = len([l for l in lands if t in l])\n",
    "            if nuM(min_value is None or num_valid_lands < min_value):\n",
    "                min_value, least_flexible = num_valid_lands, t\n",
    "\n",
    "        debug('least flexible: ' + str(least_flexible), d)\n",
    "        if min_value == 0:\n",
    "            debug('Min value == 0', d)\n",
    "            return None\n",
    "        \n",
    "        valid_land_indices = [i for i in range(0, len(lands)) if least_flexible in lands[i]]\n",
    "        debug('valid land indices: ' + str(valid_land_indices), d)\n",
    "        \n",
    "        candidates = []\n",
    "        \n",
    "        for i in valid_land_indices:\n",
    "            num_options = len(lands[i])\n",
    "            num_uses = len(assignment[i])\n",
    "            candidates.append((i, (num_uses, num_options)))\n",
    "\n",
    "        candidates.sort(key=lambda tup: tup[1])\n",
    "        debug('candidates: ' + str(candidates), d)\n",
    "        land_picked = candidates[0][0]\n",
    "\n",
    "        assignment[land_picked].append(least_flexible)\n",
    "        types.remove(least_flexible)\n",
    "        lands[land_picked].clear()\n",
    "        for l in lands:\n",
    "            if least_flexible in l:\n",
    "                l.remove(least_flexible)\n",
    "        num_assigned += 1\n",
    "\n",
    "    while types:\n",
    "        t = types.pop()\n",
    "        for i in range(0, len(lands_original)):\n",
    "            if t in lands_original[i]:\n",
    "                assignment[i].append(t)\n",
    "                continue\n",
    "    \n",
    "    return assignment"
   ]
  },
  {
   "cell_type": "code",
   "execution_count": 331,
   "metadata": {},
   "outputs": [
    {
     "name": "stdout",
     "output_type": "stream",
     "text": [
      "lands: [[1], [1, 2, 3]] | types: [1, 2, 3] | assignment: [[], []]\n",
      "least flexible: 2\n",
      "valid land indices: [1]\n",
      "candidates: [(1, (0, 3))]\n",
      "lands: [[1], []] | types: [1, 3] | assignment: [[], [2]]\n",
      "least flexible: 3\n",
      "Min value == 0\n",
      "None\n"
     ]
    }
   ],
   "source": [
    "result = find_assignment([[1], [1, 2, 3]], [1, 2, 3], d=True)\n",
    "print(result)"
   ]
  },
  {
   "cell_type": "code",
   "execution_count": null,
   "metadata": {},
   "outputs": [],
   "source": []
  },
  {
   "cell_type": "code",
   "execution_count": null,
   "metadata": {},
   "outputs": [],
   "source": []
  }
 ],
 "metadata": {
  "kernelspec": {
   "display_name": "Python 3",
   "language": "python",
   "name": "python3"
  },
  "language_info": {
   "codemirror_mode": {
    "name": "ipython",
    "version": 3
   },
   "file_extension": ".py",
   "mimetype": "text/x-python",
   "name": "python",
   "nbconvert_exporter": "python",
   "pygments_lexer": "ipython3",
   "version": "3.7.1"
  }
 },
 "nbformat": 4,
 "nbformat_minor": 2
}
