{
 "cells": [
  {
   "cell_type": "markdown",
   "metadata": {},
   "source": [
    "Outputs a png of the synergy graph for each 2-color pair into the `graph_images` directory in this directory.\n",
    "\n",
    "## Requires\n",
    "\n",
    "graphviz (https://graphviz.gitlab.io/download/) - can't be installed via pip unfortunately."
   ]
  },
  {
   "cell_type": "code",
   "execution_count": null,
   "metadata": {},
   "outputs": [],
   "source": [
    "!pip install pygraphviz"
   ]
  },
  {
   "cell_type": "code",
   "execution_count": null,
   "metadata": {},
   "outputs": [],
   "source": [
    "from mtg_draft_ai.api import *\n",
    "\n",
    "cards = read_cube_toml('cube_81183_tag_data.toml')"
   ]
  },
  {
   "cell_type": "code",
   "execution_count": null,
   "metadata": {},
   "outputs": [],
   "source": [
    "from mtg_draft_ai import synergy\n",
    "\n",
    "G = synergy.create_graph(cards)"
   ]
  },
  {
   "cell_type": "code",
   "execution_count": null,
   "metadata": {},
   "outputs": [],
   "source": [
    "from IPython.display import Image\n",
    "import networkx as nx\n",
    "\n",
    "!mkdir graph_images\n",
    "\n",
    "def draw_graph(graph, filename):\n",
    "    A = nx.nx_agraph.to_agraph(graph)\n",
    "    A.layout(prog='sfdp', args='-x -Goverlap=scale')\n",
    "    A.draw('data.dot')\n",
    "    !sfdp -x -Goverlap=scale -Gsize=\"150,150\" -Nfontsize=36 -Nshape=box -Tpng data.dot > graph_images/$filename"
   ]
  },
  {
   "cell_type": "code",
   "execution_count": null,
   "metadata": {},
   "outputs": [],
   "source": [
    "for colors in ['WU', 'WB', 'WR', 'WG', 'UB', 'UR', 'UG', 'BR', 'BG', 'RG']:\n",
    "    subgraph = synergy.colors_subgraph(G, colors)\n",
    "    draw_graph(subgraph, '{}_graph.png'.format(colors))"
   ]
  }
 ],
 "metadata": {
  "kernelspec": {
   "display_name": "Python 3",
   "language": "python",
   "name": "python3"
  },
  "language_info": {
   "codemirror_mode": {
    "name": "ipython",
    "version": 3
   },
   "file_extension": ".py",
   "mimetype": "text/x-python",
   "name": "python",
   "nbconvert_exporter": "python",
   "pygments_lexer": "ipython3",
   "version": "3.7.1"
  }
 },
 "nbformat": 4,
 "nbformat_minor": 2
}
