{
 "cells": [
  {
   "cell_type": "code",
   "execution_count": 23,
   "metadata": {},
   "outputs": [],
   "source": [
    "deck_file = 'boros_herokens.txt'\n",
    "\n",
    "with open(deck_file, 'r') as f:\n",
    "    lines = f.readlines()"
   ]
  },
  {
   "cell_type": "code",
   "execution_count": 24,
   "metadata": {},
   "outputs": [],
   "source": [
    "decklist = []\n",
    "for line in lines:\n",
    "    if 'CubeTutor.com' in line:\n",
    "        continue\n",
    "    if not line.strip():\n",
    "        break\n",
    "    \n",
    "    # Example line:\n",
    "    # 1 Cloudfin Raptor\\n\n",
    "    # Get remainder of string after first space, and trim ending newline\n",
    "    card_name = line[line.index(' ')+1:].strip()\n",
    "    \n",
    "    decklist.append(card_name)"
   ]
  },
  {
   "cell_type": "code",
   "execution_count": 25,
   "metadata": {},
   "outputs": [],
   "source": [
    "from mtg_draft_ai.api import *\n",
    "\n",
    "cards = read_cube_toml('cube_81183_tag_data.toml')\n",
    "cards_by_name = {c.name: c for c in cards}"
   ]
  },
  {
   "cell_type": "code",
   "execution_count": 28,
   "metadata": {},
   "outputs": [],
   "source": [
    "from mtg_draft_ai import synergy\n",
    "\n",
    "cards_in_deck = [cards_by_name[cn] for cn in decklist]\n",
    "num_edges = len(synergy.create_graph(cards_in_deck).edges)"
   ]
  },
  {
   "cell_type": "code",
   "execution_count": 29,
   "metadata": {},
   "outputs": [
    {
     "name": "stdout",
     "output_type": "stream",
     "text": [
      "Num edges: 57\n"
     ]
    }
   ],
   "source": [
    "print('Num edges: {}'.format(num_edges))"
   ]
  },
  {
   "cell_type": "code",
   "execution_count": null,
   "metadata": {},
   "outputs": [],
   "source": []
  }
 ],
 "metadata": {
  "kernelspec": {
   "display_name": "Python 3",
   "language": "python",
   "name": "python3"
  },
  "language_info": {
   "codemirror_mode": {
    "name": "ipython",
    "version": 3
   },
   "file_extension": ".py",
   "mimetype": "text/x-python",
   "name": "python",
   "nbconvert_exporter": "python",
   "pygments_lexer": "ipython3",
   "version": "3.7.1"
  }
 },
 "nbformat": 4,
 "nbformat_minor": 2
}
